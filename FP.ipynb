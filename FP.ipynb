{
 "cells": [
  {
   "cell_type": "markdown",
   "metadata": {},
   "source": [
    "# Proyecto Final de SQL"
   ]
  },
  {
   "cell_type": "markdown",
   "metadata": {},
   "source": [
    "## Proyecto\n",
    "\n",
    "SQL vs hojas de cálculo para gestionar la informacion\n",
    "\n",
    "El presente proyecto busca, además de poner a prueba todo todo lo aprendido en los temas de SQL, demostrar por qué es mejor gestionar nuestros datos en Bases de Datos, y como el uso de lenguajes de programación maximizan las labores de la gestión de la información.\n",
    "\n",
    " Se debe demostrar por qué el pasar a utilizar Bases de Datos es bastante más aconsejable que mantener nuestra información hojas actualizadas de excel.\n",
    "\n",
    "1. Brinde por lo menos 5 argumentos técnicos de por qué es mejor gestionar los datos en bases de datos, y no en hojas de cálculo.\n",
    "2. Diseñe un esquema de base de datos (snowflake), en donde ud analizará los gastos de una compañía. El esquema debe contener una tabla hecho, y por lo menos 6 tablas de dimensión (DDL). \n",
    "3. EXTRA: Se desea visualizar el esquema de la base de datos, con sus tablas y sus relaciones según las llaves. Por ejemplo\n",
    "4. Inserte, para la tabla de hecho, por lo menos 1000 casos, y para las demás tablas de dimensión, por lo menos 30 casos. En este caso, es recomendable que use Python para generar el código SQL con los datos simulados a ser importantes (DML).\n",
    "5. Cree ciertas reglas para que solo las personas con los correos “admin@mundodata.com ” , “fernando@mundodata.com”, “jennifer@mundodata.com ” y “oscar@mundodata.com” sean los únicos que pueden ingresar a la base de datos (DCL).\n",
    "6. A la hora de insertar los casos, muestre que la transacciones fueron ejecutadas, y que ahora son parte de la base de datos (TCL). \n",
    "7. EXTRA: se puede crear algun tipo de alerta que indica a cierta persona, por email, que cuando se insertaron los datos de forma correcta, esta llegue al administrador de la plataforma ?\n",
    "8. Muestreo con unas 10 consultas a la base de datos, algunos resultados que podrían ser de interés (DQL).\n",
    "9. Se desea escalar este sistema, y mostrar que la base de datos se puede estar ingestando información, sin necesidad de importar o hacer un proceso manual, esto es, tan solo con programación. Muestre en una primera forma, como se tienen tres tablas con información externa, y estas se pueden ingestar a la base de datos.\n",
    "10. EXTRA: sería adecuado crear una tarea automática o rutina, que cada hora produzca datos, y estos datos, deben ser luego ser exportados a la base de datos. Como se puede crear un proceso batch para demostrar que las bases de datos se pueden alimentar, de forma automática (puede crear un DataFrame, o archivos .txt o .csv para probar lo anterior).\n"
   ]
  },
  {
   "cell_type": "markdown",
   "metadata": {},
   "source": [
    "## 1. Brinde por lo menos 5 argumentos técnicos de por qué es mejor gestionar los datos en bases de datos, y no en hojas de cálculo.\n",
    "\n"
   ]
  },
  {
   "cell_type": "markdown",
   "metadata": {},
   "source": [
    "1. Integridad y Consistencia de Datos\n",
    "\n",
    "Las bases de datos aseguran la integridad y la consistencia de los datos mediante el uso de restricciones, como claves primarias y foráneas, y reglas de integridad de datos. Esto previene errores como duplicaciones, referencias no válidas y otros problemas de consistencia que son comunes en las hojas de cálculo.\n",
    "\n",
    "2. Manejo de Grandes Volúmenes de Datos\n",
    "\n",
    "Las bases de datos están diseñadas para manejar grandes cantidades de datos de manera eficiente. Las hojas de cálculo tienen limitaciones en cuanto al número de filas y columnas, y su rendimiento disminuye significativamente a medida que aumenta el tamaño del archivo. En cambio, las bases de datos pueden manejar millones de registros con un rendimiento optimizado.\n",
    "\n",
    "3. Seguridad y Control de Acceso\n",
    "\n",
    "Las bases de datos ofrecen opciones robustas de seguridad y control de acceso. Puedes definir permisos detallados a nivel de usuario, controlando quién puede ver, modificar, añadir o eliminar datos. Las hojas de cálculo, por otro lado, ofrecen un control de acceso más limitado, lo que las hace menos seguras para datos confidenciales.\n",
    "\n",
    "4. Operaciones de Consulta y Análisis Avanzadas\n",
    "\n",
    "Las bases de datos soportan lenguajes de consulta complejos como SQL, que permiten realizar operaciones de búsqueda, actualización y análisis avanzadas de manera eficiente. Las hojas de cálculo, aunque tienen funciones de filtrado y búsqueda, carecen de la capacidad de realizar consultas complejas y operaciones de unión entre múltiples conjuntos de datos.\n",
    "\n",
    "5. Concurrencia y Control de Transacciones\n",
    "\n",
    "Las bases de datos manejan de manera eficiente el acceso concurrente de múltiples usuarios, asegurando que las operaciones de varios usuarios no interfieran entre sí. Además, las bases de datos utilizan el control de transacciones, lo que significa que las operaciones múltiples pueden ser agrupadas en una única transacción que es atómica, consistente, aislada y duradera (propiedades ACID). Las hojas de cálculo carecen de estas capacidades, lo que las hace inadecuadas para entornos donde múltiples usuarios necesitan modificar datos simultáneamente."
   ]
  },
  {
   "cell_type": "markdown",
   "metadata": {},
   "source": [
    "## Diseñe un esquema de base de datos (snowflake), en donde ud analizará los gastos de una compañía. El esquema debe contener una tabla hecho, y por lo menos 6 tablas de dimensión (DDL). "
   ]
  },
  {
   "cell_type": "code",
   "execution_count": 1,
   "metadata": {},
   "outputs": [
    {
     "name": "stdout",
     "output_type": "stream",
     "text": [
      "Conexión exitosa.\n"
     ]
    }
   ],
   "source": [
    "# 1. Establecer la Conexión con MySQL\n",
    "\n",
    "import mysql.connector\n",
    "from mysql.connector import Error\n",
    "\n",
    "try:\n",
    "    # Establecer la conexión con la base de datos\n",
    "    conexion = mysql.connector.connect(\n",
    "        host=\"127.0.0.1\",\n",
    "        port=3306,\n",
    "        user=\"root\",\n",
    "        password=\"amoaDios1986!\"\n",
    "    )\n",
    "\n",
    "    if conexion.is_connected():\n",
    "        print(\"Conexión exitosa.\")\n",
    "except Error as e:\n",
    "    print(\"Error al conectar a MySQL\", e)\n"
   ]
  },
  {
   "cell_type": "code",
   "execution_count": 2,
   "metadata": {},
   "outputs": [
    {
     "name": "stdout",
     "output_type": "stream",
     "text": [
      "La base de datos y las tablas se han creado con éxito\n",
      "Conexión a MySQL cerrada\n"
     ]
    }
   ],
   "source": [
    "# 2. Creación de la Base de Datos y las Tablas\n",
    "\n",
    "# Continuación del código anterior\n",
    "\n",
    "try:\n",
    "    # Crear un cursor para ejecutar operaciones en la base de datos\n",
    "    cursor = conexion.cursor()\n",
    "\n",
    "    # Crear la base de datos Gastos_test\n",
    "    cursor.execute(\"CREATE DATABASE IF NOT EXISTS Gastos_test;\")\n",
    "    cursor.execute(\"USE Gastos_test;\")\n",
    "\n",
    "    # Crear las tablas en la base de datos Gastos_test\n",
    "    cursor.execute(\"\"\"\n",
    "    CREATE TABLE IF NOT EXISTS Departamento (\n",
    "        ID_Departamento INT AUTO_INCREMENT PRIMARY KEY,\n",
    "        Nombre VARCHAR(255) NOT NULL,\n",
    "        Gerente VARCHAR(255),\n",
    "        Ubicación VARCHAR(255),\n",
    "        Presupuesto DECIMAL(10, 2),\n",
    "        Número_Empleados INT\n",
    "    );\n",
    "    \"\"\")\n",
    "    cursor.execute(\"\"\"\n",
    "    CREATE TABLE IF NOT EXISTS Proveedor (\n",
    "        ID_Proveedor INT AUTO_INCREMENT PRIMARY KEY,\n",
    "        Nombre VARCHAR(255) NOT NULL,\n",
    "        Dirección VARCHAR(255),\n",
    "        Contacto VARCHAR(255),\n",
    "        Teléfono VARCHAR(20),\n",
    "        Correo_Electrónico VARCHAR(255)\n",
    "    );\n",
    "    \"\"\")\n",
    "    cursor.execute(\"\"\"\n",
    "    CREATE TABLE IF NOT EXISTS CategoríaGasto (\n",
    "        ID_CategoríaGasto INT AUTO_INCREMENT PRIMARY KEY,\n",
    "        Nombre VARCHAR(255) NOT NULL,\n",
    "        Descripción TEXT,\n",
    "        Presupuesto_Asignado DECIMAL(10, 2),\n",
    "        Presupuesto_Utilizado DECIMAL(10, 2)\n",
    "    );\n",
    "    \"\"\")\n",
    "    cursor.execute(\"\"\"\n",
    "    CREATE TABLE IF NOT EXISTS Fecha (\n",
    "        ID_Fecha INT AUTO_INCREMENT PRIMARY KEY,\n",
    "        Día INT,\n",
    "        Mes INT,\n",
    "        Año INT,\n",
    "        Día_Semana VARCHAR(15),\n",
    "        Es_FinDeSemana BOOLEAN\n",
    "    );\n",
    "    \"\"\")\n",
    "    cursor.execute(\"\"\"\n",
    "    CREATE TABLE IF NOT EXISTS Empresa (\n",
    "        ID_Empresa INT AUTO_INCREMENT PRIMARY KEY,\n",
    "        Nombre VARCHAR(255) NOT NULL,\n",
    "        Sector VARCHAR(255),\n",
    "        Dirección VARCHAR(255),\n",
    "        Número_Empleados INT,\n",
    "        Ingresos_Anuales DECIMAL(15, 2)\n",
    "    );\n",
    "    \"\"\")\n",
    "    cursor.execute(\"\"\"\n",
    "    CREATE TABLE IF NOT EXISTS Empleado (\n",
    "        ID_Empleado INT AUTO_INCREMENT PRIMARY KEY,\n",
    "        Nombre VARCHAR(255) NOT NULL,\n",
    "        Rol VARCHAR(255),\n",
    "        Departamento_ID INT,\n",
    "        Correo_Electrónico VARCHAR(255),\n",
    "        Teléfono VARCHAR(20),\n",
    "        FOREIGN KEY (Departamento_ID) REFERENCES Departamento(ID_Departamento)\n",
    "    );\n",
    "    \"\"\")\n",
    "    cursor.execute(\"\"\"\n",
    "    CREATE TABLE IF NOT EXISTS Gastos (\n",
    "        ID_Gasto INT AUTO_INCREMENT PRIMARY KEY,\n",
    "        ID_Departamento INT,\n",
    "        ID_Proveedor INT,\n",
    "        ID_CategoríaGasto INT,\n",
    "        ID_Fecha INT,\n",
    "        Monto DECIMAL(10, 2),\n",
    "        ID_Empresa INT,\n",
    "        FOREIGN KEY (ID_Departamento) REFERENCES Departamento(ID_Departamento),\n",
    "        FOREIGN KEY (ID_Proveedor) REFERENCES Proveedor(ID_Proveedor),\n",
    "        FOREIGN KEY (ID_CategoríaGasto) REFERENCES CategoríaGasto(ID_CategoríaGasto),\n",
    "        FOREIGN KEY (ID_Fecha) REFERENCES Fecha(ID_Fecha),\n",
    "        FOREIGN KEY (ID_Empresa) REFERENCES Empresa(ID_Empresa)\n",
    "    );\n",
    "    \"\"\")\n",
    "\n",
    "    # Hacer commit de las transacciones\n",
    "    conexion.commit()\n",
    "    print(\"La base de datos y las tablas se han creado con éxito\")\n",
    "\n",
    "except Error as e:\n",
    "    print(\"Error al ejecutar SQL\", e)\n",
    "\n",
    "finally:\n",
    "    # Cerrar el cursor y la conexión\n",
    "    if conexion.is_connected():\n",
    "        cursor.close()\n",
    "        conexion.close()\n",
    "        print(\"Conexión a MySQL cerrada\")\n"
   ]
  },
  {
   "cell_type": "markdown",
   "metadata": {},
   "source": [
    "## 3. EXTRA: Se desea visualizar el esquema de la base de datos, con sus tablas y sus relaciones según las llaves. Por ejemplo"
   ]
  }
 ],
 "metadata": {
  "kernelspec": {
   "display_name": "Python 3",
   "language": "python",
   "name": "python3"
  },
  "language_info": {
   "codemirror_mode": {
    "name": "ipython",
    "version": 3
   },
   "file_extension": ".py",
   "mimetype": "text/x-python",
   "name": "python",
   "nbconvert_exporter": "python",
   "pygments_lexer": "ipython3",
   "version": "3.11.6"
  }
 },
 "nbformat": 4,
 "nbformat_minor": 2
}
